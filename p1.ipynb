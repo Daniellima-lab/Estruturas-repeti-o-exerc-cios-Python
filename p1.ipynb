{
  "nbformat": 4,
  "nbformat_minor": 0,
  "metadata": {
    "colab": {
      "provenance": [],
      "authorship_tag": "ABX9TyMMZTOpln3Jn8suDu0XhFfo",
      "include_colab_link": true
    },
    "kernelspec": {
      "name": "python3",
      "display_name": "Python 3"
    },
    "language_info": {
      "name": "python"
    }
  },
  "cells": [
    {
      "cell_type": "markdown",
      "metadata": {
        "id": "view-in-github",
        "colab_type": "text"
      },
      "source": [
        "<a href=\"https://colab.research.google.com/github/Daniellima913/Estruturas-repeti-o-exerc-cios-Python/blob/main/p1.ipynb\" target=\"_parent\"><img src=\"https://colab.research.google.com/assets/colab-badge.svg\" alt=\"Open In Colab\"/></a>"
      ]
    },
    {
      "cell_type": "code",
      "execution_count": 17,
      "metadata": {
        "colab": {
          "base_uri": "https://localhost:8080/"
        },
        "id": "9z1m_vmS3VsN",
        "outputId": "df7ce386-e63b-4abb-d4b6-70ab0fd2fea9"
      },
      "outputs": [
        {
          "output_type": "stream",
          "name": "stdout",
          "text": [
            "Digite a temperatura em fahrenheit: 523.67\n",
            "A temperatura de 523.7 ºF é igual a  273.1 ºC\n"
          ]
        }
      ],
      "source": [
        "tempFah = float(input(\"Digite a temperatura em fahrenheit: \"))\n",
        "\n",
        "tempCelcius = 5 * ((tempFah - 32) / 9)\n",
        "\n",
        "print(\"A temperatura de\", round(tempFah, 1),\"ºF é igual a \", round(tempCelcius, 1),\"ºC\")"
      ]
    },
    {
      "cell_type": "markdown",
      "source": [],
      "metadata": {
        "id": "lFANNTxx_V94"
      }
    },
    {
      "cell_type": "code",
      "source": [
        "areaTinta = int(input(\"Digite a quantos mestros quadrados devem ser pintados: \"))\n",
        "import math\n",
        "\n",
        "latasTinta = math.ceil((areaTinta / 3) / 18)\n",
        "precoTinta = latasTinta * 80\n",
        "\n",
        "print(\"Precisara comprar\", latasTinta, \"lata(s) de tinta e o preço sairá por R$\", precoTinta)\n"
      ],
      "metadata": {
        "colab": {
          "base_uri": "https://localhost:8080/"
        },
        "id": "8H1Xuj8Q7QEx",
        "outputId": "38dad8e7-a9e4-419a-a805-578366d4eb9f"
      },
      "execution_count": 32,
      "outputs": [
        {
          "output_type": "stream",
          "name": "stdout",
          "text": [
            "Digite a quantos mestros quadrados devem ser pintados: 5555\n",
            "Precisara comprar 103 lata(s) de tinta e o preço sairá por R$ 8240\n"
          ]
        }
      ]
    },
    {
      "cell_type": "code",
      "source": [
        "nota1= int(input(\"Digite a primeira nota: \"))\n",
        "nota2= int(input(\"Digite a segunda nota: \"))\n",
        "\n",
        "media = (nota1+nota2)/2\n",
        "\n",
        "if media < 7:\n",
        "  print(\"Reprovado\")\n",
        "elif media < 10:\n",
        "  print(\"Aprovado\")\n",
        "else:\n",
        "  print(\"Aprovado com Distinção\")"
      ],
      "metadata": {
        "colab": {
          "base_uri": "https://localhost:8080/"
        },
        "id": "e8dXpS1u8djL",
        "outputId": "dd01177f-d6c8-4870-d8bd-6615c66748f5"
      },
      "execution_count": 37,
      "outputs": [
        {
          "output_type": "stream",
          "name": "stdout",
          "text": [
            "Digite a primeira nota: 7\n",
            "Digite a segunda nota: 6\n",
            "Reprovado\n"
          ]
        }
      ]
    },
    {
      "cell_type": "code",
      "source": [
        "soma = []\n",
        "\n",
        "for i in range (5):\n",
        "  soma.append(int(input(\"Digite um numero: \")))\n",
        "\n",
        "print(\"A soma dos numeros são: \",sum(soma))\n",
        "print(\"A média dos numeros são: \",sum(soma)/5)\n"
      ],
      "metadata": {
        "colab": {
          "base_uri": "https://localhost:8080/"
        },
        "id": "S-y1pV8gA3nA",
        "outputId": "26b48a95-ac54-4a75-8ec7-f1b94d12cbd7"
      },
      "execution_count": 51,
      "outputs": [
        {
          "output_type": "stream",
          "name": "stdout",
          "text": [
            "Digite um numero: 5\n",
            "Digite um numero: 5\n",
            "Digite um numero: 5\n",
            "Digite um numero: 5\n",
            "Digite um numero: 5\n",
            "A soma dos numeros são:  25\n",
            "A média dos numeros são:  5.0\n"
          ]
        }
      ]
    },
    {
      "cell_type": "code",
      "source": [
        "numero = int(input(\"Digite um numero: \"))\n",
        "i = 0\n",
        "\n",
        "if numero == 1:\n",
        "  print(\"o fatoramento de\", numero, \"é\", numero)\n",
        "else:\n",
        "  fatorado2 = numero - 2\n",
        "  fatorado = numero * (numero - 1)\n",
        "\n",
        "  for i in range(numero - 2):\n",
        "\n",
        "    fatorado = fatorado * fatorado2\n",
        "    fatorado2 -= 1\n",
        "\n",
        "  print(\"o fatoramento de\", numero, \"é\", fatorado)"
      ],
      "metadata": {
        "colab": {
          "base_uri": "https://localhost:8080/"
        },
        "id": "xKH4H3ddEeiD",
        "outputId": "ab0d62b5-c77a-42fd-964d-7bd7d90419e5"
      },
      "execution_count": 113,
      "outputs": [
        {
          "output_type": "stream",
          "name": "stdout",
          "text": [
            "Digite um numero: 5\n",
            "o fatoramento de 5 é 120\n"
          ]
        }
      ]
    }
  ]
}