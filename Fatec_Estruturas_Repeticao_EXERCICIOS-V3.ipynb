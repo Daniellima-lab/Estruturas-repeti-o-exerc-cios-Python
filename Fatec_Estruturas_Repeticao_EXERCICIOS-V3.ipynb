{
  "nbformat": 4,
  "nbformat_minor": 0,
  "metadata": {
    "colab": {
      "provenance": [],
      "include_colab_link": true
    },
    "kernelspec": {
      "name": "python3",
      "display_name": "Python 3"
    },
    "language_info": {
      "name": "python"
    }
  },
  "cells": [
    {
      "cell_type": "markdown",
      "metadata": {
        "id": "view-in-github",
        "colab_type": "text"
      },
      "source": [
        "<a href=\"https://colab.research.google.com/github/Daniellima913/Estruturas-repeti-o-exerc-cios-Python/blob/main/Fatec_Estruturas_Repeticao_EXERCICIOS-V3.ipynb\" target=\"_parent\"><img src=\"https://colab.research.google.com/assets/colab-badge.svg\" alt=\"Open In Colab\"/></a>"
      ]
    },
    {
      "cell_type": "markdown",
      "source": [
        "1- Faça um programa que peça uma nota, entre zero e dez. Mostre uma mensagem caso o valor seja inválido e continue pedindo até que o usuário informe um valor válido."
      ],
      "metadata": {
        "id": "4BHkhl1eO0V4"
      }
    },
    {
      "cell_type": "code",
      "source": [
        "i = 0\n",
        "while i == 0:\n",
        "  nota = int(input(\"Digite o valor da nota: \"))\n",
        "  #if nota >= 0 and nota <= 10:\n",
        "  if nota in range(11):\n",
        "    print(\"valor da nota é: \", nota)\n",
        "    break\n",
        "  else:\n",
        "    print(\"valor errado, digite novamente!!\")\n"
      ],
      "metadata": {
        "id": "4aR8eWjyO20P"
      },
      "execution_count": null,
      "outputs": []
    },
    {
      "cell_type": "markdown",
      "source": [
        "2- Faça um programa que leia um nome de usuário e a sua senha e não aceite a senha igual ao nome do usuário, mostrando uma mensagem de erro e voltando a pedir as informações."
      ],
      "metadata": {
        "id": "8xLNyx3vO6__"
      }
    },
    {
      "cell_type": "code",
      "source": [
        "\n",
        "\n",
        "\n",
        "usuario = input(\"Digite seu usuario: \")\n",
        "senha = input(\"Digite sua senha: \")\n",
        "\n",
        "while senha == usuario:\n",
        "  print(\"usuario e senha iguais, por favor digite novamente!!\")\n",
        "  usuario = input(\"Digite seu usuario: \")\n",
        "  senha = input(\"Digite sua senha: \")\n",
        "\n",
        "print(\"senha e usuarios validos!!\")\n",
        "\n"
      ],
      "metadata": {
        "id": "x21IQbJqPDtI",
        "colab": {
          "base_uri": "https://localhost:8080/"
        },
        "outputId": "f3a4a2e3-4c55-45ec-9075-b30af6dd30eb"
      },
      "execution_count": null,
      "outputs": [
        {
          "name": "stdout",
          "output_type": "stream",
          "text": [
            "Digite seu usuario: daniel\n",
            "Digite sua senha: daniel\n",
            "usuario e senha iguais, por favor digite novamente!!\n",
            "Digite seu usuario: daniek\n",
            "Digite sua senha: daniel\n"
          ]
        }
      ]
    },
    {
      "cell_type": "markdown",
      "source": [
        "3- Faça um programa que leia e valide as seguintes informações:\n",
        "*   Nome: maior que 3 caracteres;\n",
        "*   Idade: entre 0 e 150;\n",
        "*   Salário: maior que zero;\n",
        "*   Sexo: 'f' ou 'm';\n",
        "*   Estado Civil: 's', 'c', 'v', 'd';\n",
        "\n",
        "Use a função **len(string)** para saber o tamanho de um texto (número de caracteres).\n"
      ],
      "metadata": {
        "id": "l24MnOXFPG7n"
      }
    },
    {
      "cell_type": "code",
      "source": [
        "nome = str(input(\"Digite seu nome:\"))\n",
        "idade = int(input(\"Digite sua idade:\"))\n",
        "salario = int(input(\"Digite seu salario: \"))\n",
        "sx = str(input(\"Digite seu sexo (maculino = m, feminino = f)\"))\n",
        "estado = str(input(\"Digite seu estado civil(solteiro = s, casado = c, viúvo = v, divorciado = d)\"))\n",
        "estadoL= ['s','c','v','d','S','C','V','D']\n",
        "sxL= ['m','f','M','F']\n",
        "\n",
        "while len(nome) <= 3:\n",
        "  nome = str(input(\"o nome está errado, digite um nome com mais de 3 letras: \"))\n",
        "\n",
        "while idade < 0 or idade > 150:\n",
        "  idade = int(input(\"A idade está errada, digite uma idade entre 0 e 150:\"))\n",
        "\n",
        "while salario < 0:\n",
        "  salario = int(input(\"salario está errado, digite um salario maior que 0: \"))\n",
        "\n",
        "while sx not in sxL:\n",
        "  sx = str(input(\"O sexo está errado, digite seu sexo (maculino = m, feminino = f)\"))\n",
        "\n",
        "while estado not in estadoL:\n",
        " estado = str(input(\"O estado civil está errado, digite seu estado civil(solteiro = s, casado = c, viúvo = v, divorciado = d)\"))\n",
        "\n",
        "print(\"Seu nome é: \", nome)\n",
        "print(\"Sua idade é: \", idade)\n",
        "print(\"Seu salario é: R$\", salario)\n",
        "\n",
        "match sx:\n",
        "  case \"f\":\n",
        "    print(\"Seu sexo é: feminino\")\n",
        "  case \"m\":\n",
        "    print(\"Seu sexo é: masculino\")\n",
        "  case \"F\":\n",
        "    print(\"Seu sexo é: feminino\")\n",
        "  case \"M\":\n",
        "    print(\"Seu sexo é: masculino\")\n",
        "\n",
        "match estado:\n",
        "  case \"s\":\n",
        "    print(\"Seu estado civil é: Solteiro\")\n",
        "  case 'c':\n",
        "    print(\"Seu estado civil é: Casado\")\n",
        "  case 'v':\n",
        "    print(\"Seu estado civil é: Viúvo\")\n",
        "  case 'd':\n",
        "   print(\"Seu estado civil é: Divorciado\")\n",
        "  case \"S\":\n",
        "    print(\"Seu estado civil é: Solteiro\")\n",
        "  case 'C':\n",
        "    print(\"Seu estado civil é: Casado\")\n",
        "  case 'V':\n",
        "    print(\"Seu estado civil é: Viúvo\")\n",
        "  case 'D':\n",
        "   print(\"Seu estado civil é: Divorciado\")"
      ],
      "metadata": {
        "id": "w28p4gJ8Pc2b",
        "colab": {
          "base_uri": "https://localhost:8080/"
        },
        "outputId": "f36fc80a-ded6-4fc9-9f27-92e536d25fc6"
      },
      "execution_count": null,
      "outputs": [
        {
          "output_type": "stream",
          "name": "stdout",
          "text": [
            "Digite seu nome:danielk\n",
            "Digite sua idade:11111\n",
            "Digite seu salario: 1111\n",
            "Digite seu sexo (maculino = m, feminino = f)M\n",
            "Digite seu estado civil(solteiro = s, casado = c, viúvo = v, divorciado = d)D\n",
            "A idade está errada, digite uma idade entre 0 e 150:55\n",
            "Seu nome é:  danielk\n",
            "Sua idade é:  55\n",
            "Seu salario é: R$ 1111\n"
          ]
        }
      ]
    },
    {
      "cell_type": "markdown",
      "source": [
        "4- Supondo que a população de um país A seja da ordem de 80000 habitantes com uma taxa anual de crescimento de 3% e que a população de B seja 200000 habitantes com uma taxa de crescimento de 1.5%. Faça um programa que calcule e escreva o número de anos necessários para que a população do país A ultrapasse ou iguale a população do país B, mantidas as taxas de crescimento."
      ],
      "metadata": {
        "id": "8WpDFV0uP1DX"
      }
    },
    {
      "cell_type": "code",
      "source": [
        "popuA = int(80000)\n",
        "popuB = int(200000)\n",
        "anos = int(0)\n",
        "\n",
        "while popuA < popuB:\n",
        "  popuA = popuA + (popuA * 0.03)\n",
        "  popuB = popuB + (popuB * 0.015)\n",
        "  anos = anos + 1\n",
        "\n",
        "\n",
        "print(\"Depois de \",anos ,\"anos o pais A passou o país B\" )\n",
        "#print(\"país A: \", popuA)\n",
        "#print(\"país B: \", popuB)\n",
        "\n",
        "#essa parte {:.0f}'.format(popuA)  se refere as casas depois do zero onde é possivel alterar a quantidade de casas mudando o numeor no {:.0f}\n",
        "print('A população do país A {:.0f}'.format(popuA))\n",
        "print('A população do país B {:.0f}'.format(popuB))"
      ],
      "metadata": {
        "id": "Qszzk46vzGoS",
        "colab": {
          "base_uri": "https://localhost:8080/"
        },
        "outputId": "7ca662bc-0957-4e54-bab7-785ccc6c70b6"
      },
      "execution_count": 15,
      "outputs": [
        {
          "output_type": "stream",
          "name": "stdout",
          "text": [
            "Depois de  63 anos o pais A passou o país B\n",
            "A população do país A 515033\n",
            "A população do país B 510964\n"
          ]
        }
      ]
    },
    {
      "cell_type": "markdown",
      "source": [
        "5- Altere o programa anterior permitindo ao usuário informar as populações e as taxas de crescimento iniciais. Valide a entrada e permita repetir a operação."
      ],
      "metadata": {
        "id": "GaMiWS9DP-zf"
      }
    },
    {
      "cell_type": "code",
      "source": [
        "cont = \"S\"\n",
        "while cont == 'S' or cont == 's':\n",
        "  popuA = int(input(\"Digite a pupulação A: \"))\n",
        "  creA = int(input(\"Digite a taxa de crescimento da pupulação A: \"))\n",
        "  popuB = int(input(\"Digite a pupulação B: \"))\n",
        "  creB = int(input(\"Digite a taxa de crescimento da pupulação B : \"))\n",
        "  i = 1\n",
        "\n",
        "  if (popuA == popuB and creA == creB) or creA == creB:\n",
        "    print(\"As populações são iguais \")\n",
        "    print('A população do país A {:.0f}'.format(popuA))\n",
        "    print('A população do país B {:.0f}'.format(popuB))\n",
        "\n",
        "  elif creA > creB:\n",
        "    while popuA < popuB:\n",
        "      popuA = popuA + (popuA * (creA/100))\n",
        "      popuB = popuB + (popuB * (creB/100))\n",
        "      i = i+1\n",
        "\n",
        "    print(\"Depois de \",i ,\"anos o pais A passou o país B\" )\n",
        "    print('A população do país A:  {:.1f}'.format(popuA))\n",
        "    print('A população do país B: {:.1f}'.format(popuB))\n",
        "\n",
        "  else:\n",
        "    while popuB < popuA:\n",
        "      popuA = popuA + (popuA * (creA/100))\n",
        "      popuB = popuB + (popuB * (creB/100))\n",
        "      i = i+1\n",
        "\n",
        "    print(\"Depois de \",i ,\"anos o pais B passou o país A\" )\n",
        "    print('A população do país A: {:.1f}'.format(popuA))\n",
        "    print('A população do país B: {:.1f}'.format(popuB))\n",
        "\n",
        "  cont = str(input(\"Deseja fazer uma nova consulta? se sim tecle S, se não digite outra tecla: \"))\n",
        "\n"
      ],
      "metadata": {
        "id": "ibOa9dT0P5iD",
        "colab": {
          "base_uri": "https://localhost:8080/"
        },
        "outputId": "d45f9f38-146e-4b9f-805a-467ec1b9d6e9"
      },
      "execution_count": 14,
      "outputs": [
        {
          "name": "stdout",
          "output_type": "stream",
          "text": [
            "Digite a pupulação A: 1\n",
            "Digite a taxa de crescimento da pupulação A: 10\n",
            "Digite a pupulação B: 10\n",
            "Digite a taxa de crescimento da pupulação B : 1\n",
            "Depois de  28 anos o pais A passou o país B\n",
            "A população do país A:  13.1\n",
            "A população do país B: 13.1\n",
            "Deseja fazer uma nova consulta? se sim tecle S, se não digite outra tecla: n\n"
          ]
        }
      ]
    },
    {
      "cell_type": "code",
      "source": [],
      "metadata": {
        "id": "Iez1Hn3NJoCS"
      },
      "execution_count": null,
      "outputs": []
    },
    {
      "cell_type": "markdown",
      "source": [
        "6- Faça um programa que imprima na tela os números de 1 a 20, um abaixo do outro. Depois modifique o programa para que ele mostre os números um ao lado do outro."
      ],
      "metadata": {
        "id": "HF_S1CYWQG1v"
      }
    },
    {
      "cell_type": "code",
      "source": [
        "for i in range(1,21):\n",
        "  print(i)"
      ],
      "metadata": {
        "id": "ns_qNgR2zIPJ",
        "colab": {
          "base_uri": "https://localhost:8080/"
        },
        "outputId": "9ed059a9-e453-4747-d790-f67aa9e4e7be"
      },
      "execution_count": null,
      "outputs": [
        {
          "output_type": "stream",
          "name": "stdout",
          "text": [
            "1\n",
            "2\n",
            "3\n",
            "4\n",
            "5\n",
            "6\n",
            "7\n",
            "8\n",
            "9\n",
            "10\n",
            "11\n",
            "12\n",
            "13\n",
            "14\n",
            "15\n",
            "16\n",
            "17\n",
            "18\n",
            "19\n",
            "20\n"
          ]
        }
      ]
    },
    {
      "cell_type": "code",
      "source": [
        "lista = []\n",
        "for i in range(1,21):\n",
        "  lista.append(i)\n",
        "print(lista)"
      ],
      "metadata": {
        "colab": {
          "base_uri": "https://localhost:8080/"
        },
        "id": "wtv3tS32ERUc",
        "outputId": "31cb452b-5db1-427a-fd3c-cb9dc17bea0e"
      },
      "execution_count": null,
      "outputs": [
        {
          "output_type": "stream",
          "name": "stdout",
          "text": [
            "[1, 2, 3, 4, 5, 6, 7, 8, 9, 10, 11, 12, 13, 14, 15, 16, 17, 18, 19, 20]\n"
          ]
        }
      ]
    },
    {
      "cell_type": "markdown",
      "source": [
        "7- Faça um programa que leia 5 números e informe o maior número."
      ],
      "metadata": {
        "id": "v7UrGR9MQLnW"
      }
    },
    {
      "cell_type": "code",
      "source": [
        "lista = []\n",
        "for i in range(5):\n",
        "  i =+ 1\n",
        "  # numero = int(input(\"Digite um numero: \"))\n",
        "  # lista.append(numero)\n",
        "\n",
        "  lista.append(int(input(\"Digite um numero: \")))\n",
        "\n",
        "lista = sorted(lista)\n",
        "print(lista[4])\n"
      ],
      "metadata": {
        "id": "MOwOObu6QI5a",
        "colab": {
          "base_uri": "https://localhost:8080/"
        },
        "outputId": "395f55a4-614a-433a-e36d-e12adaad2ead"
      },
      "execution_count": 16,
      "outputs": [
        {
          "output_type": "stream",
          "name": "stdout",
          "text": [
            "Digite um numero: 5\n",
            "Digite um numero: 1\n",
            "Digite um numero: 6\n",
            "Digite um numero: 8\n",
            "Digite um numero: 4\n",
            "8\n"
          ]
        }
      ]
    },
    {
      "cell_type": "markdown",
      "source": [
        "8- Faça um programa que leia 5 números e informe a soma e a média dos números."
      ],
      "metadata": {
        "id": "B-7qr6k3QQsg"
      }
    },
    {
      "cell_type": "code",
      "source": [
        "soma = 0\n",
        "i = 0\n",
        "for i in range(5):\n",
        "  i = i + 1\n",
        "  numero = int(input(\"Digite um numero: \"))\n",
        "  soma = numero + soma\n",
        "\n",
        "print(\"A soma é:\", soma)\n",
        "print(\"A media é:\", soma/5)\n",
        "\n"
      ],
      "metadata": {
        "id": "pmJfzKWjQR0-",
        "colab": {
          "base_uri": "https://localhost:8080/"
        },
        "outputId": "82f9be86-00ed-4ec7-a938-0feb0c6b4954"
      },
      "execution_count": 19,
      "outputs": [
        {
          "output_type": "stream",
          "name": "stdout",
          "text": [
            "Digite um numero: 1\n",
            "Digite um numero: 1\n",
            "Digite um numero: 1\n",
            "Digite um numero: 1\n",
            "Digite um numero: 1\n",
            "A soma é: 5\n",
            "A media é: 1.0\n"
          ]
        }
      ]
    },
    {
      "cell_type": "markdown",
      "source": [
        "9- Faça um programa que imprima na tela apenas os números ímpares entre 1 e 50."
      ],
      "metadata": {
        "id": "nUAFdwiYQU9H"
      }
    },
    {
      "cell_type": "code",
      "source": [
        "for i in range(1,50):\n",
        "  if i % 2 == 1:\n",
        "    print(i)"
      ],
      "metadata": {
        "id": "dttpJpn3QV73",
        "colab": {
          "base_uri": "https://localhost:8080/"
        },
        "outputId": "0f03e102-9c18-40ea-c13a-da5cbc6e4ecb"
      },
      "execution_count": 22,
      "outputs": [
        {
          "output_type": "stream",
          "name": "stdout",
          "text": [
            "1\n",
            "3\n",
            "5\n",
            "7\n",
            "9\n",
            "11\n",
            "13\n",
            "15\n",
            "17\n",
            "19\n",
            "21\n",
            "23\n",
            "25\n",
            "27\n",
            "29\n",
            "31\n",
            "33\n",
            "35\n",
            "37\n",
            "39\n",
            "41\n",
            "43\n",
            "45\n",
            "47\n",
            "49\n"
          ]
        }
      ]
    },
    {
      "cell_type": "markdown",
      "source": [
        "10- Faça um programa que receba dois números inteiros e gere os números inteiros que estão no intervalo compreendido por eles."
      ],
      "metadata": {
        "id": "XMh61ATtQaQ2"
      }
    },
    {
      "cell_type": "code",
      "source": [
        "num1 = int(input(\"Digite um numero: \"))\n",
        "num2 = int(input(\"Digite um numero: \"))\n",
        "\n",
        "while num1 < (num2 - 1):\n",
        "  num1=num1+1\n",
        "  print(num1)\n",
        "\n",
        "while num2 < (num1 - 1):\n",
        "  num2=num2+1\n",
        "  print(num2)\n"
      ],
      "metadata": {
        "id": "ijjW78AqQbRo",
        "colab": {
          "base_uri": "https://localhost:8080/"
        },
        "outputId": "f0f28eae-56dc-4d98-adbd-3fb0d62a1ede"
      },
      "execution_count": null,
      "outputs": [
        {
          "output_type": "stream",
          "name": "stdout",
          "text": [
            "Digite um numero: 5\n",
            "Digite um numero: 1\n",
            "2\n",
            "3\n",
            "4\n"
          ]
        }
      ]
    },
    {
      "cell_type": "markdown",
      "source": [
        "11- Altere o programa anterior para mostrar no final a soma dos números."
      ],
      "metadata": {
        "id": "5NuReyMRQdmH"
      }
    },
    {
      "cell_type": "code",
      "source": [
        "num1 = int(input(\"Digite um numero: \"))\n",
        "num2 = int(input(\"Digite um numero: \"))\n",
        "soma = 0\n",
        "\n",
        "\n",
        "while num1 < (num2 - 1):\n",
        "  num1=num1+1\n",
        "  soma = num1 + soma\n",
        "\n",
        "while num2 < (num1 - 1):\n",
        "  num2=num2+1\n",
        "  soma = num2 + soma\n",
        "\n",
        "print(\"A soma é igual a: \", soma)"
      ],
      "metadata": {
        "id": "Dw3f5v0dQemp",
        "colab": {
          "base_uri": "https://localhost:8080/"
        },
        "outputId": "6c37b64a-bcda-43ea-ed08-7c8a130230c5"
      },
      "execution_count": 37,
      "outputs": [
        {
          "output_type": "stream",
          "name": "stdout",
          "text": [
            "Digite um numero: 1\n",
            "Digite um numero: 5\n",
            "2\n",
            "3\n",
            "4\n",
            "A soma é igual a:  9\n"
          ]
        }
      ]
    },
    {
      "cell_type": "markdown",
      "source": [
        "12- Desenvolva um gerador de tabuada, capaz de gerar a tabuada de qualquer número inteiro entre 1 a 10. O usuário deve informar de qual numero ele deseja ver a tabuada. A saída deve ser conforme o exemplo abaixo:\n",
        "\n",
        "Tabuada de 5:\n",
        "\n",
        "5 X 1 = 5\n",
        "\n",
        "5 X 2 = 10\n",
        "\n",
        "...\n",
        "\n",
        "5 X 10 = 50"
      ],
      "metadata": {
        "id": "JzSUD3yHQiRW"
      }
    },
    {
      "cell_type": "code",
      "source": [
        "num = int(input(\"Digite um numero para a tabuada: \"))\n",
        "i = 1\n",
        "\n",
        "while i <= 10:\n",
        "  print(num,\"x\",i,\"=\",num*i)\n",
        "  i+=1"
      ],
      "metadata": {
        "id": "BFDcQCFnQnNo",
        "colab": {
          "base_uri": "https://localhost:8080/"
        },
        "outputId": "d6e897a9-672d-4d69-ef17-684be9224bbb"
      },
      "execution_count": 23,
      "outputs": [
        {
          "output_type": "stream",
          "name": "stdout",
          "text": [
            "Digite um numero para a tabuada: 11\n",
            "11 x 1 = 11\n",
            "11 x 2 = 22\n",
            "11 x 3 = 33\n",
            "11 x 4 = 44\n",
            "11 x 5 = 55\n",
            "11 x 6 = 66\n",
            "11 x 7 = 77\n",
            "11 x 8 = 88\n",
            "11 x 9 = 99\n",
            "11 x 10 = 110\n"
          ]
        }
      ]
    },
    {
      "cell_type": "markdown",
      "source": [
        "13- Faça um programa que peça dois números, base e expoente, calcule e mostre o primeiro número elevado ao segundo número. Não utilize a função de potência da linguagem."
      ],
      "metadata": {
        "id": "-LI5xyBNQqq-"
      }
    },
    {
      "cell_type": "code",
      "source": [
        "base = int(input(\"Digite a base: \"))\n",
        "expoente = int(input(\"Digite o expoente: \"))\n",
        "mult = base\n",
        "i = 1\n",
        "\n",
        "while i < expoente:\n",
        "  base = base * mult\n",
        "  i = i+ 1\n",
        "\n",
        "print(base)"
      ],
      "metadata": {
        "id": "vzAyk0HrQrxn",
        "colab": {
          "base_uri": "https://localhost:8080/"
        },
        "outputId": "38a61bfd-ed9c-4f75-bfc0-2c9e75f71190"
      },
      "execution_count": 27,
      "outputs": [
        {
          "output_type": "stream",
          "name": "stdout",
          "text": [
            "Digite a base: 5\n",
            "Digite o expoente: 4\n",
            "625\n"
          ]
        }
      ]
    },
    {
      "cell_type": "markdown",
      "source": [
        "14- Faça um programa que peça 10 números inteiros, calcule e mostre a quantidade de números pares e a quantidade de números ímpares."
      ],
      "metadata": {
        "id": "1S9PEwRLQuEm"
      }
    },
    {
      "cell_type": "code",
      "source": [
        "numerosI=[]\n",
        "numerosP=[]\n",
        "i=0\n",
        "while i < 10:\n",
        "  des = int(input(\"Digite um numero: \"))\n",
        "\n",
        "  if des % 2 == 0:\n",
        "    numerosP.append(des)\n",
        "\n",
        "  else:\n",
        "    numerosI.append(des)\n",
        "\n",
        "  i+=1\n",
        "\n",
        "print(\"são\", len(numerosI), \"numeros Impares\")\n",
        "print(\"são\", len(numerosP), \"numeros pares\")"
      ],
      "metadata": {
        "id": "QUkfEm9CQvWa",
        "colab": {
          "base_uri": "https://localhost:8080/"
        },
        "outputId": "18d6dc38-e264-4647-9bf4-eb7ddfa10c27"
      },
      "execution_count": 28,
      "outputs": [
        {
          "output_type": "stream",
          "name": "stdout",
          "text": [
            "Digite um numero: 5\n",
            "Digite um numero: 8\n",
            "Digite um numero: 4\n",
            "Digite um numero: 88\n",
            "Digite um numero: 9\n",
            "Digite um numero: 11\n",
            "Digite um numero: 8\n",
            "Digite um numero: 555\n",
            "Digite um numero: 66\n",
            "Digite um numero: 4\n",
            "são 4 numeros Impares\n",
            "são 6 numeros pares\n"
          ]
        }
      ]
    },
    {
      "cell_type": "markdown",
      "source": [
        "15- A série de Fibonacci é formada pela sequência 1,1,2,3,5,8,13,21,34,55,... Faça um programa capaz de gerar a série até o n−ésimo termo."
      ],
      "metadata": {
        "id": "jivgY60PQxeX"
      }
    },
    {
      "cell_type": "code",
      "source": [
        "num = int(input(\"Quabtos numeros voce deseja: \"))\n",
        "i=0\n",
        "ant = 0\n",
        "atual = 1\n",
        "prox = 1\n",
        "\n",
        "while i < num:\n",
        "\n",
        "  print(prox)\n",
        "  prox = atual + ant\n",
        "  ant = atual\n",
        "  atual = prox\n",
        "\n",
        "  i += 1\n"
      ],
      "metadata": {
        "id": "a31HxmdsQyUU",
        "colab": {
          "base_uri": "https://localhost:8080/"
        },
        "outputId": "45066fab-e053-4868-c42e-58e807faa543"
      },
      "execution_count": 42,
      "outputs": [
        {
          "output_type": "stream",
          "name": "stdout",
          "text": [
            "Quabtos numeros voce deseja: 100\n",
            "1\n",
            "1\n",
            "2\n",
            "3\n",
            "5\n",
            "8\n",
            "13\n",
            "21\n",
            "34\n",
            "55\n",
            "89\n",
            "144\n",
            "233\n",
            "377\n",
            "610\n",
            "987\n",
            "1597\n",
            "2584\n",
            "4181\n",
            "6765\n",
            "10946\n",
            "17711\n",
            "28657\n",
            "46368\n",
            "75025\n",
            "121393\n",
            "196418\n",
            "317811\n",
            "514229\n",
            "832040\n",
            "1346269\n",
            "2178309\n",
            "3524578\n",
            "5702887\n",
            "9227465\n",
            "14930352\n",
            "24157817\n",
            "39088169\n",
            "63245986\n",
            "102334155\n",
            "165580141\n",
            "267914296\n",
            "433494437\n",
            "701408733\n",
            "1134903170\n",
            "1836311903\n",
            "2971215073\n",
            "4807526976\n",
            "7778742049\n",
            "12586269025\n",
            "20365011074\n",
            "32951280099\n",
            "53316291173\n",
            "86267571272\n",
            "139583862445\n",
            "225851433717\n",
            "365435296162\n",
            "591286729879\n",
            "956722026041\n",
            "1548008755920\n",
            "2504730781961\n",
            "4052739537881\n",
            "6557470319842\n",
            "10610209857723\n",
            "17167680177565\n",
            "27777890035288\n",
            "44945570212853\n",
            "72723460248141\n",
            "117669030460994\n",
            "190392490709135\n",
            "308061521170129\n",
            "498454011879264\n",
            "806515533049393\n",
            "1304969544928657\n",
            "2111485077978050\n",
            "3416454622906707\n",
            "5527939700884757\n",
            "8944394323791464\n",
            "14472334024676221\n",
            "23416728348467685\n",
            "37889062373143906\n",
            "61305790721611591\n",
            "99194853094755497\n",
            "160500643816367088\n",
            "259695496911122585\n",
            "420196140727489673\n",
            "679891637638612258\n",
            "1100087778366101931\n",
            "1779979416004714189\n",
            "2880067194370816120\n",
            "4660046610375530309\n",
            "7540113804746346429\n",
            "12200160415121876738\n",
            "19740274219868223167\n",
            "31940434634990099905\n",
            "51680708854858323072\n",
            "83621143489848422977\n",
            "135301852344706746049\n",
            "218922995834555169026\n",
            "354224848179261915075\n"
          ]
        }
      ]
    }
  ]
}