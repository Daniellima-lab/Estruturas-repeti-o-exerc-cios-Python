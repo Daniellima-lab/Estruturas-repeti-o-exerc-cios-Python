{
  "nbformat": 4,
  "nbformat_minor": 0,
  "metadata": {
    "colab": {
      "provenance": [],
      "include_colab_link": true
    },
    "kernelspec": {
      "name": "python3",
      "display_name": "Python 3"
    },
    "language_info": {
      "name": "python"
    }
  },
  "cells": [
    {
      "cell_type": "markdown",
      "metadata": {
        "id": "view-in-github",
        "colab_type": "text"
      },
      "source": [
        "<a href=\"https://colab.research.google.com/github/Daniellima-lab/Estruturas-repeti-o-exerc-cios-Python/blob/main/Fatec_Estruturas_Repeticao_EXERCICIOS.ipynb\" target=\"_parent\"><img src=\"https://colab.research.google.com/assets/colab-badge.svg\" alt=\"Open In Colab\"/></a>"
      ]
    },
    {
      "cell_type": "markdown",
      "source": [
        "1- Faça um programa que peça uma nota, entre zero e dez. Mostre uma mensagem caso o valor seja inválido e continue pedindo até que o usuário informe um valor válido."
      ],
      "metadata": {
        "id": "4BHkhl1eO0V4"
      }
    },
    {
      "cell_type": "code",
      "source": [
        "i = 0\n",
        "while i == 0:\n",
        "  nota = int(input(\"Digite o valor da nota: \"))\n",
        "  #if nota >= 0 and nota <= 10:\n",
        "  if nota in range(11):\n",
        "    print(\"valor da nota é: \", nota)\n",
        "    break\n",
        "  else:\n",
        "    print(\"valor errado, digite novamente!!\")\n"
      ],
      "metadata": {
        "id": "4aR8eWjyO20P"
      },
      "execution_count": null,
      "outputs": []
    },
    {
      "cell_type": "markdown",
      "source": [
        "2- Faça um programa que leia um nome de usuário e a sua senha e não aceite a senha igual ao nome do usuário, mostrando uma mensagem de erro e voltando a pedir as informações."
      ],
      "metadata": {
        "id": "8xLNyx3vO6__"
      }
    },
    {
      "cell_type": "code",
      "source": [
        "i = 0\n",
        "usuario = input(\"Digite seu usuario: \")\n",
        "senha = input(\"Digite sua senha: \")\n",
        "\n",
        "while i == 0:\n",
        "  if senha == usuario:\n",
        "    print(\"usuario e senha iguais, por favor digite novamente!!\")\n",
        "    usuario = input(\"Digite seu usuario: \")\n",
        "    senha = input(\"Digite sua senha: \")\n",
        "\n",
        "  else:\n",
        "    print(\"senha e usuarios validos!!\")\n",
        "    i = 1"
      ],
      "metadata": {
        "id": "x21IQbJqPDtI"
      },
      "execution_count": null,
      "outputs": []
    },
    {
      "cell_type": "markdown",
      "source": [
        "3- Faça um programa que leia e valide as seguintes informações:\n",
        "*   Nome: maior que 3 caracteres;\n",
        "*   Idade: entre 0 e 150;\n",
        "*   Salário: maior que zero;\n",
        "*   Sexo: 'f' ou 'm';\n",
        "*   Estado Civil: 's', 'c', 'v', 'd';\n",
        "\n",
        "Use a função **len(string)** para saber o tamanho de um texto (número de caracteres).\n"
      ],
      "metadata": {
        "id": "l24MnOXFPG7n"
      }
    },
    {
      "cell_type": "code",
      "source": [
        "nome = str(input(\"Digite seu nome:\"))\n",
        "idade = int(input(\"Digite sua idade:\"))\n",
        "salario = int(input(\"Digite seu salario: \"))\n",
        "sx = str(input(\"Digite seu sexo (maculino = m, feminino = m)\"))\n",
        "estado = str(input(\"Digite seu estado civil(solteiro = s, casado = c, viúvo = v, divorciado = d)\"))\n",
        "estadoL= ['s','c','v','d']\n",
        "sxL= ['m','f']\n",
        "i = 0\n",
        "\n",
        "while i < 5:\n",
        "  if len(nome) > 3:\n",
        "    i = 1\n",
        "    print(\"Nome está correto!!\")\n",
        "  else:\n",
        "    nome = str(input(\"o nome está errado, digite um nome com mais de 3 letras: \"))\n",
        "  if idade in range(151):\n",
        "    print(\"A idade compre os parametros!!\")\n",
        "    i=i+1\n",
        "  else:\n",
        "    idade = int(input(\"A idade está errada, digite uma idade entre 0 e 150:\"))\n",
        "  if salario > 0:\n",
        "    print(\"O salario compre os parametros!!\")\n",
        "    i=i+1\n",
        "  else:\n",
        "    salario = int(input(\"salario está errado, digite um salario maior que 0: \"))\n",
        "  if sx in sxL:\n",
        "    print(\"O sexo compre os parametros!!\")\n",
        "    i=i+1\n",
        "  else:\n",
        "    sx = str(input(\"O sexo está errado, digite seu sexo (maculino = m, feminino = f)\"))\n",
        "  if estado in estadoL:\n",
        "    print(\"O estado civil compre os parametros!!\")\n",
        "    i=i+1\n",
        "  else:\n",
        "    estado = str(input(\"O estado civil está errado, digite seu estado civil(solteiro = s, casado = c, viúvo = v, divorciado = d)\"))\n",
        "\n",
        "print(\"Seu nome é: \",nome)\n",
        "print(\"Sua idade é: \",idade)\n",
        "print(\"Seu salario é: R$\", salario)\n",
        "if sx == 'f':\n",
        "  print(\"Seu sexo é: feminino\")\n",
        "else:\n",
        "  print(\"Seu sexo é: masculino\")\n",
        "if estado == 's':\n",
        "  print(\"Seu estado civil é: Solteiro\")\n",
        "elif estado == 'c':\n",
        "  print(\"Seu estado civil é: Casado\")\n",
        "elif estado == 'v':\n",
        "  print(\"Seu estado civil é: Viúvo\")\n",
        "else:\n",
        "  print(\"Seu estado civil é: Divorciado\")"
      ],
      "metadata": {
        "id": "w28p4gJ8Pc2b"
      },
      "execution_count": null,
      "outputs": []
    },
    {
      "cell_type": "markdown",
      "source": [
        "4- Supondo que a população de um país A seja da ordem de 80000 habitantes com uma taxa anual de crescimento de 3% e que a população de B seja 200000 habitantes com uma taxa de crescimento de 1.5%. Faça um programa que calcule e escreva o número de anos necessários para que a população do país A ultrapasse ou iguale a população do país B, mantidas as taxas de crescimento."
      ],
      "metadata": {
        "id": "8WpDFV0uP1DX"
      }
    },
    {
      "cell_type": "code",
      "source": [
        "popuA = int(80000)\n",
        "popuB = int(200000)\n",
        "anos = int(0)\n",
        "\n",
        "while popuA < popuB:\n",
        "  popuA = popuA + (popuA * 0.03)\n",
        "  popuB = popuB + (popuB * 0.015)\n",
        "  anos = anos + 1\n",
        "\n",
        "\n",
        "print(\"Depois de \",anos ,\"anos o pais A passou o país B\" )\n",
        "#print(\"país A: \", popuA)\n",
        "#print(\"país B: \", popuB)\n",
        "\n",
        "#essa parte {:.0f}'.format(popuA)  se refere as casas depois do zero onde é possivel alterar a quantidade de casas mudando o numeor no {:.0f}\n",
        "print('A população do país A {:.0f}'.format(popuA))\n",
        "print('A população do país B {:.0f}'.format(popuB))"
      ],
      "metadata": {
        "id": "Qszzk46vzGoS",
        "colab": {
          "base_uri": "https://localhost:8080/"
        },
        "outputId": "edefa633-e3b1-483e-c5bf-6926a164c47c"
      },
      "execution_count": 12,
      "outputs": [
        {
          "output_type": "stream",
          "name": "stdout",
          "text": [
            "Depois de  63 anos o pais A passou o país B\n",
            "O valor de pi formatado é 515033\n",
            "O valor de pi formatado é 510964\n"
          ]
        }
      ]
    },
    {
      "cell_type": "markdown",
      "source": [
        "5- Altere o programa anterior permitindo ao usuário informar as populações e as taxas de crescimento iniciais. Valide a entrada e permita repetir a operação."
      ],
      "metadata": {
        "id": "GaMiWS9DP-zf"
      }
    },
    {
      "cell_type": "code",
      "source": [
        "cont = \"S\"\n",
        "while cont == 'S' or cont == 's':\n",
        "  popuA = int(input(\"Digite a pupulação A: \"))\n",
        "  creA = int(input(\"Digite a taxa da pupulação A: \"))\n",
        "  popuB = int(input(\"Digite a pupulação B: \"))\n",
        "  creB = int(input(\"Digite a taxa da pupulação B : \"))\n",
        "  i = 1\n",
        "\n",
        "  if popuA == popuB and creA == creB:\n",
        "    print(\"As populações são iguais\")\n",
        "    print('A população do país A {:.0f}'.format(popuA))\n",
        "    print('A população do país B {:.0f}'.format(popuB))\n",
        "\n",
        "  elif creA < creB:\n",
        "    print('O país B sempre sera maior pois sua taxa é maior!!')\n",
        "\n",
        "  else:\n",
        "    while popuA <= popuB:\n",
        "      popuA = popuA + (popuA * (creA/100))\n",
        "      popuB = popuB + (popuB * (creB/100))\n",
        "      i = i+1\n",
        "    print(\"Depois de \",i ,\"anos o pais A passou o país B\" )\n",
        "    print('A população do país A  {:.1f}'.format(popuA))\n",
        "    print('A população do país B {:.1f}'.format(popuB))\n",
        "\n",
        "  cont = str(input(\"Deseja fazer uma nova consulta? se sim tecle S, se não digite outra tecla: \"))\n",
        "\n",
        ""
      ],
      "metadata": {
        "id": "ibOa9dT0P5iD",
        "colab": {
          "base_uri": "https://localhost:8080/"
        },
        "outputId": "e87ac4f0-b997-456b-e885-cd1d6240f911"
      },
      "execution_count": 35,
      "outputs": [
        {
          "name": "stdout",
          "output_type": "stream",
          "text": [
            "Digite a pupulação A: 100\n",
            "Digite a taxa da pupulação A: 1\n",
            "Digite a pupulação B: 1000\n",
            "Digite a taxa da pupulação B : 0\n",
            "Depois de  233 anos o pais A passou o país B\n",
            "A população do país A  1005.9\n",
            "A população do país B 1000.0\n",
            "Deseja fazer uma nova consulta? se sim tecle S, se não digite outra tecla: s\n",
            "Digite a pupulação A: 100\n",
            "Digite a taxa da pupulação A: 10\n",
            "Digite a pupulação B: 1111\n",
            "Digite a taxa da pupulação B : 1\n",
            "Depois de  30 anos o pais A passou o país B\n",
            "A população do país A  1586.3\n",
            "A população do país B 1482.6\n",
            "Deseja fazer uma nova consulta? se sim tecle S, se não digite outra tecla: n\n"
          ]
        }
      ]
    },
    {
      "cell_type": "markdown",
      "source": [
        "6- Faça um programa que imprima na tela os números de 1 a 20, um abaixo do outro. Depois modifique o programa para que ele mostre os números um ao lado do outro."
      ],
      "metadata": {
        "id": "HF_S1CYWQG1v"
      }
    },
    {
      "cell_type": "code",
      "source": [
        "for i in range(1,21):\n",
        "  print(i)"
      ],
      "metadata": {
        "id": "ns_qNgR2zIPJ",
        "colab": {
          "base_uri": "https://localhost:8080/"
        },
        "outputId": "9ed059a9-e453-4747-d790-f67aa9e4e7be"
      },
      "execution_count": 46,
      "outputs": [
        {
          "output_type": "stream",
          "name": "stdout",
          "text": [
            "1\n",
            "2\n",
            "3\n",
            "4\n",
            "5\n",
            "6\n",
            "7\n",
            "8\n",
            "9\n",
            "10\n",
            "11\n",
            "12\n",
            "13\n",
            "14\n",
            "15\n",
            "16\n",
            "17\n",
            "18\n",
            "19\n",
            "20\n"
          ]
        }
      ]
    },
    {
      "cell_type": "code",
      "source": [
        "lista = []\n",
        "for i in range(1,21):\n",
        "  lista.append(i)\n",
        "print(lista)"
      ],
      "metadata": {
        "colab": {
          "base_uri": "https://localhost:8080/"
        },
        "id": "wtv3tS32ERUc",
        "outputId": "31cb452b-5db1-427a-fd3c-cb9dc17bea0e"
      },
      "execution_count": 47,
      "outputs": [
        {
          "output_type": "stream",
          "name": "stdout",
          "text": [
            "[1, 2, 3, 4, 5, 6, 7, 8, 9, 10, 11, 12, 13, 14, 15, 16, 17, 18, 19, 20]\n"
          ]
        }
      ]
    },
    {
      "cell_type": "markdown",
      "source": [
        "7- Faça um programa que leia 5 números e informe o maior número."
      ],
      "metadata": {
        "id": "v7UrGR9MQLnW"
      }
    },
    {
      "cell_type": "code",
      "source": [
        "i = 0\n",
        "lista = []\n",
        "for i in range(5):\n",
        "  i = i + 1\n",
        "  numero = int(input(\"Digite um numero: \"))\n",
        "  lista.append(numero)\n"
      ],
      "metadata": {
        "id": "MOwOObu6QI5a",
        "colab": {
          "base_uri": "https://localhost:8080/"
        },
        "outputId": "546169af-aa25-4916-8f68-9b2c7fa2b46e"
      },
      "execution_count": 64,
      "outputs": [
        {
          "output_type": "stream",
          "name": "stdout",
          "text": [
            "Digite um numero: 1\n",
            "Digite um numero: 2\n",
            "Digite um numero: 3\n",
            "Digite um numero: 4\n",
            "Digite um numero: 5\n",
            "3\n"
          ]
        }
      ]
    },
    {
      "cell_type": "markdown",
      "source": [
        "8- Faça um programa que leia 5 números e informe a soma e a média dos números."
      ],
      "metadata": {
        "id": "B-7qr6k3QQsg"
      }
    },
    {
      "cell_type": "code",
      "source": [
        "# SEU CÓDIGO AQUI..."
      ],
      "metadata": {
        "id": "pmJfzKWjQR0-"
      },
      "execution_count": null,
      "outputs": []
    },
    {
      "cell_type": "markdown",
      "source": [
        "9- Faça um programa que imprima na tela apenas os números ímpares entre 1 e 50."
      ],
      "metadata": {
        "id": "nUAFdwiYQU9H"
      }
    },
    {
      "cell_type": "code",
      "source": [
        "# SEU CÓDIGO AQUI..."
      ],
      "metadata": {
        "id": "dttpJpn3QV73"
      },
      "execution_count": null,
      "outputs": []
    },
    {
      "cell_type": "markdown",
      "source": [
        "10- Faça um programa que receba dois números inteiros e gere os números inteiros que estão no intervalo compreendido por eles."
      ],
      "metadata": {
        "id": "XMh61ATtQaQ2"
      }
    },
    {
      "cell_type": "code",
      "source": [
        "# SEU CÓDIGO AQUI..."
      ],
      "metadata": {
        "id": "ijjW78AqQbRo"
      },
      "execution_count": null,
      "outputs": []
    },
    {
      "cell_type": "markdown",
      "source": [
        "11- Altere o programa anterior para mostrar no final a soma dos números."
      ],
      "metadata": {
        "id": "5NuReyMRQdmH"
      }
    },
    {
      "cell_type": "code",
      "source": [
        "# SEU CÓDIGO AQUI..."
      ],
      "metadata": {
        "id": "Dw3f5v0dQemp"
      },
      "execution_count": null,
      "outputs": []
    },
    {
      "cell_type": "markdown",
      "source": [
        "12- Desenvolva um gerador de tabuada, capaz de gerar a tabuada de qualquer número inteiro entre 1 a 10. O usuário deve informar de qual numero ele deseja ver a tabuada. A saída deve ser conforme o exemplo abaixo:\n",
        "\n",
        "Tabuada de 5:\n",
        "\n",
        "5 X 1 = 5\n",
        "\n",
        "5 X 2 = 10\n",
        "\n",
        "...\n",
        "\n",
        "5 X 10 = 50"
      ],
      "metadata": {
        "id": "JzSUD3yHQiRW"
      }
    },
    {
      "cell_type": "code",
      "source": [
        "# SEU CÓDIGO AQUI..."
      ],
      "metadata": {
        "id": "BFDcQCFnQnNo"
      },
      "execution_count": null,
      "outputs": []
    },
    {
      "cell_type": "markdown",
      "source": [
        "13- Faça um programa que peça dois números, base e expoente, calcule e mostre o primeiro número elevado ao segundo número. Não utilize a função de potência da linguagem."
      ],
      "metadata": {
        "id": "-LI5xyBNQqq-"
      }
    },
    {
      "cell_type": "code",
      "source": [
        "# SEU CÓDIGO AQUI..."
      ],
      "metadata": {
        "id": "vzAyk0HrQrxn"
      },
      "execution_count": null,
      "outputs": []
    },
    {
      "cell_type": "markdown",
      "source": [
        "14- Faça um programa que peça 10 números inteiros, calcule e mostre a quantidade de números pares e a quantidade de números ímpares."
      ],
      "metadata": {
        "id": "1S9PEwRLQuEm"
      }
    },
    {
      "cell_type": "code",
      "source": [
        "# SEU CÓDIGO AQUI..."
      ],
      "metadata": {
        "id": "QUkfEm9CQvWa"
      },
      "execution_count": null,
      "outputs": []
    },
    {
      "cell_type": "markdown",
      "source": [
        "15- A série de Fibonacci é formada pela sequência 1,1,2,3,5,8,13,21,34,55,... Faça um programa capaz de gerar a série até o n−ésimo termo."
      ],
      "metadata": {
        "id": "jivgY60PQxeX"
      }
    },
    {
      "cell_type": "code",
      "source": [
        "# SEU CÓDIGO AQUI..."
      ],
      "metadata": {
        "id": "a31HxmdsQyUU"
      },
      "execution_count": null,
      "outputs": []
    }
  ]
}