{
  "nbformat": 4,
  "nbformat_minor": 0,
  "metadata": {
    "colab": {
      "provenance": [],
      "include_colab_link": true
    },
    "kernelspec": {
      "name": "python3",
      "display_name": "Python 3"
    },
    "language_info": {
      "name": "python"
    }
  },
  "cells": [
    {
      "cell_type": "markdown",
      "metadata": {
        "id": "view-in-github",
        "colab_type": "text"
      },
      "source": [
        "<a href=\"https://colab.research.google.com/github/Daniellima-lab/Estruturas-repeti-o-exerc-cios-Python/blob/main/la%C3%A7os%20finalizados.ipynb\" target=\"_parent\"><img src=\"https://colab.research.google.com/assets/colab-badge.svg\" alt=\"Open In Colab\"/></a>"
      ]
    },
    {
      "cell_type": "markdown",
      "source": [
        "1- Faça um programa que peça uma nota, entre zero e dez. Mostre uma mensagem caso o valor seja inválido e continue pedindo até que o usuário informe um valor válido."
      ],
      "metadata": {
        "id": "4BHkhl1eO0V4"
      }
    },
    {
      "cell_type": "code",
      "source": [
        "i = 0\n",
        "while i == 0:\n",
        "  nota = int(input(\"Digite o valor da nota: \"))\n",
        "  #if nota >= 0 and nota <= 10:\n",
        "  if nota in range(11):\n",
        "    print(\"valor da nota é: \", nota)\n",
        "    break\n",
        "  else:\n",
        "    print(\"valor errado, digite novamente!!\")\n"
      ],
      "metadata": {
        "id": "4aR8eWjyO20P"
      },
      "execution_count": null,
      "outputs": []
    },
    {
      "cell_type": "markdown",
      "source": [
        "2- Faça um programa que leia um nome de usuário e a sua senha e não aceite a senha igual ao nome do usuário, mostrando uma mensagem de erro e voltando a pedir as informações."
      ],
      "metadata": {
        "id": "8xLNyx3vO6__"
      }
    },
    {
      "cell_type": "code",
      "source": [
        "# i = 0\n",
        "# usuario = input(\"Digite seu usuario: \")\n",
        "# senha = input(\"Digite sua senha: \")\n",
        "\n",
        "# while i == 0:\n",
        "#   if senha == usuario:\n",
        "#     print(\"usuario e senha iguais, por favor digite novamente!!\")\n",
        "#     usuario = input(\"Digite seu usuario: \")\n",
        "#     senha = input(\"Digite sua senha: \")\n",
        "\n",
        "#   else:\n",
        "#     print(\"senha e usuarios validos!!\")\n",
        "#     i = 1\n",
        "\n",
        "\n",
        "usuario = input(\"Digite seu usuario: \")\n",
        "senha = input(\"Digite sua senha: \")\n",
        "\n",
        "while senha == usuario:\n",
        "  print(\"usuario e senha iguais, por favor digite novamente!!\")\n",
        "  usuario = input(\"Digite seu usuario: \")\n",
        "  senha = input(\"Digite sua senha: \")\n",
        "\n",
        "print(\"senha e usuarios validos!!\")\n",
        "\n"
      ],
      "metadata": {
        "id": "x21IQbJqPDtI",
        "colab": {
          "base_uri": "https://localhost:8080/"
        },
        "outputId": "f3a4a2e3-4c55-45ec-9075-b30af6dd30eb"
      },
      "execution_count": null,
      "outputs": [
        {
          "name": "stdout",
          "output_type": "stream",
          "text": [
            "Digite seu usuario: daniel\n",
            "Digite sua senha: daniel\n",
            "usuario e senha iguais, por favor digite novamente!!\n",
            "Digite seu usuario: daniek\n",
            "Digite sua senha: daniel\n"
          ]
        }
      ]
    },
    {
      "cell_type": "markdown",
      "source": [
        "3- Faça um programa que leia e valide as seguintes informações:\n",
        "*   Nome: maior que 3 caracteres;\n",
        "*   Idade: entre 0 e 150;\n",
        "*   Salário: maior que zero;\n",
        "*   Sexo: 'f' ou 'm';\n",
        "*   Estado Civil: 's', 'c', 'v', 'd';\n",
        "\n",
        "Use a função **len(string)** para saber o tamanho de um texto (número de caracteres).\n"
      ],
      "metadata": {
        "id": "l24MnOXFPG7n"
      }
    },
    {
      "cell_type": "code",
      "source": [
        "nome = str(input(\"Digite seu nome:\"))\n",
        "idade = int(input(\"Digite sua idade:\"))\n",
        "salario = int(input(\"Digite seu salario: \"))\n",
        "sx = str(input(\"Digite seu sexo (maculino = m, feminino = f)\"))\n",
        "estado = str(input(\"Digite seu estado civil(solteiro = s, casado = c, viúvo = v, divorciado = d)\"))\n",
        "estadoL= ['s','c','v','d','S','C','V','D']\n",
        "sxL= ['m','f','M','F']\n",
        "\n",
        "while len(nome) <= 3:\n",
        "  nome = str(input(\"o nome está errado, digite um nome com mais de 3 letras: \"))\n",
        "\n",
        "while idade < 0 or idade > 150:\n",
        "  idade = int(input(\"A idade está errada, digite uma idade entre 0 e 150:\"))\n",
        "\n",
        "while salario < 0:\n",
        "  salario = int(input(\"salario está errado, digite um salario maior que 0: \"))\n",
        "\n",
        "while sx not in sxL:\n",
        "  sx = str(input(\"O sexo está errado, digite seu sexo (maculino = m, feminino = f)\"))\n",
        "\n",
        "while estado not in estadoL:\n",
        " estado = str(input(\"O estado civil está errado, digite seu estado civil(solteiro = s, casado = c, viúvo = v, divorciado = d)\"))\n",
        "\n",
        "print(\"Seu nome é: \", nome)\n",
        "print(\"Sua idade é: \", idade)\n",
        "print(\"Seu salario é: R$\", salario)\n",
        "\n",
        "match sx:\n",
        "  case \"f\":\n",
        "    print(\"Seu sexo é: feminino\")\n",
        "  case \"m\":\n",
        "    print(\"Seu sexo é: masculino\")\n",
        "  case \"F\":\n",
        "    print(\"Seu sexo é: feminino\")\n",
        "  case \"M\":\n",
        "    print(\"Seu sexo é: masculino\")\n",
        "\n",
        "match estado:\n",
        "  case \"s\":\n",
        "    print(\"Seu estado civil é: Solteiro\")\n",
        "  case 'c':\n",
        "    print(\"Seu estado civil é: Casado\")\n",
        "  case 'v':\n",
        "    print(\"Seu estado civil é: Viúvo\")\n",
        "  case 'd':\n",
        "   print(\"Seu estado civil é: Divorciado\")\n",
        "  case \"S\":\n",
        "    print(\"Seu estado civil é: Solteiro\")\n",
        "  case 'C':\n",
        "    print(\"Seu estado civil é: Casado\")\n",
        "  case 'V':\n",
        "    print(\"Seu estado civil é: Viúvo\")\n",
        "  case 'D':\n",
        "   print(\"Seu estado civil é: Divorciado\")"
      ],
      "metadata": {
        "id": "w28p4gJ8Pc2b",
        "colab": {
          "base_uri": "https://localhost:8080/"
        },
        "outputId": "f36fc80a-ded6-4fc9-9f27-92e536d25fc6"
      },
      "execution_count": null,
      "outputs": [
        {
          "output_type": "stream",
          "name": "stdout",
          "text": [
            "Digite seu nome:danielk\n",
            "Digite sua idade:11111\n",
            "Digite seu salario: 1111\n",
            "Digite seu sexo (maculino = m, feminino = f)M\n",
            "Digite seu estado civil(solteiro = s, casado = c, viúvo = v, divorciado = d)D\n",
            "A idade está errada, digite uma idade entre 0 e 150:55\n",
            "Seu nome é:  danielk\n",
            "Sua idade é:  55\n",
            "Seu salario é: R$ 1111\n"
          ]
        }
      ]
    },
    {
      "cell_type": "markdown",
      "source": [
        "4- Supondo que a população de um país A seja da ordem de 80000 habitantes com uma taxa anual de crescimento de 3% e que a população de B seja 200000 habitantes com uma taxa de crescimento de 1.5%. Faça um programa que calcule e escreva o número de anos necessários para que a população do país A ultrapasse ou iguale a população do país B, mantidas as taxas de crescimento."
      ],
      "metadata": {
        "id": "8WpDFV0uP1DX"
      }
    },
    {
      "cell_type": "code",
      "source": [
        "popuA = int(80000)\n",
        "popuB = int(200000)\n",
        "anos = int(0)\n",
        "\n",
        "while popuA < popuB:\n",
        "  popuA = popuA + (popuA * 0.03)\n",
        "  popuB = popuB + (popuB * 0.015)\n",
        "  anos = anos + 1\n",
        "\n",
        "\n",
        "print(\"Depois de \",anos ,\"anos o pais A passou o país B\" )\n",
        "#print(\"país A: \", popuA)\n",
        "#print(\"país B: \", popuB)\n",
        "\n",
        "#essa parte {:.0f}'.format(popuA)  se refere as casas depois do zero onde é possivel alterar a quantidade de casas mudando o numeor no {:.0f}\n",
        "print('A população do país A {:.0f}'.format(popuA))\n",
        "print('A população do país B {:.0f}'.format(popuB))"
      ],
      "metadata": {
        "id": "Qszzk46vzGoS",
        "colab": {
          "base_uri": "https://localhost:8080/"
        },
        "outputId": "edefa633-e3b1-483e-c5bf-6926a164c47c"
      },
      "execution_count": null,
      "outputs": [
        {
          "output_type": "stream",
          "name": "stdout",
          "text": [
            "Depois de  63 anos o pais A passou o país B\n",
            "O valor de pi formatado é 515033\n",
            "O valor de pi formatado é 510964\n"
          ]
        }
      ]
    },
    {
      "cell_type": "markdown",
      "source": [
        "5- Altere o programa anterior permitindo ao usuário informar as populações e as taxas de crescimento iniciais. Valide a entrada e permita repetir a operação."
      ],
      "metadata": {
        "id": "GaMiWS9DP-zf"
      }
    },
    {
      "cell_type": "code",
      "source": [
        "cont = \"S\"\n",
        "while cont == 'S' or cont == 's':\n",
        "  popuA = int(input(\"Digite a pupulação A: \"))\n",
        "  creA = int(input(\"Digite a taxa da pupulação A: \"))\n",
        "  popuB = int(input(\"Digite a pupulação B: \"))\n",
        "  creB = int(input(\"Digite a taxa da pupulação B : \"))\n",
        "  i = 1\n",
        "\n",
        "  if popuA == popuB and creA == creB:\n",
        "    print(\"As populações são iguais\")\n",
        "    print('A população do país A {:.0f}'.format(popuA))\n",
        "    print('A população do país B {:.0f}'.format(popuB))\n",
        "\n",
        "  elif creA < creB:\n",
        "    print('O país B sempre sera maior pois sua taxa é maior!!')\n",
        "\n",
        "  else:\n",
        "    while popuA <= popuB:\n",
        "      popuA = popuA + (popuA * (creA/100))\n",
        "      popuB = popuB + (popuB * (creB/100))\n",
        "      i = i+1\n",
        "    print(\"Depois de \",i ,\"anos o pais A passou o país B\" )\n",
        "    print('A população do país A  {:.1f}'.format(popuA))\n",
        "    print('A população do país B {:.1f}'.format(popuB))\n",
        "\n",
        "  cont = str(input(\"Deseja fazer uma nova consulta? se sim tecle S, se não digite outra tecla: \"))\n",
        "\n"
      ],
      "metadata": {
        "id": "ibOa9dT0P5iD",
        "colab": {
          "base_uri": "https://localhost:8080/"
        },
        "outputId": "e87ac4f0-b997-456b-e885-cd1d6240f911"
      },
      "execution_count": null,
      "outputs": [
        {
          "name": "stdout",
          "output_type": "stream",
          "text": [
            "Digite a pupulação A: 100\n",
            "Digite a taxa da pupulação A: 1\n",
            "Digite a pupulação B: 1000\n",
            "Digite a taxa da pupulação B : 0\n",
            "Depois de  233 anos o pais A passou o país B\n",
            "A população do país A  1005.9\n",
            "A população do país B 1000.0\n",
            "Deseja fazer uma nova consulta? se sim tecle S, se não digite outra tecla: s\n",
            "Digite a pupulação A: 100\n",
            "Digite a taxa da pupulação A: 10\n",
            "Digite a pupulação B: 1111\n",
            "Digite a taxa da pupulação B : 1\n",
            "Depois de  30 anos o pais A passou o país B\n",
            "A população do país A  1586.3\n",
            "A população do país B 1482.6\n",
            "Deseja fazer uma nova consulta? se sim tecle S, se não digite outra tecla: n\n"
          ]
        }
      ]
    },
    {
      "cell_type": "markdown",
      "source": [
        "6- Faça um programa que imprima na tela os números de 1 a 20, um abaixo do outro. Depois modifique o programa para que ele mostre os números um ao lado do outro."
      ],
      "metadata": {
        "id": "HF_S1CYWQG1v"
      }
    },
    {
      "cell_type": "code",
      "source": [
        "for i in range(1,21):\n",
        "  print(i)"
      ],
      "metadata": {
        "id": "ns_qNgR2zIPJ",
        "colab": {
          "base_uri": "https://localhost:8080/"
        },
        "outputId": "9ed059a9-e453-4747-d790-f67aa9e4e7be"
      },
      "execution_count": null,
      "outputs": [
        {
          "output_type": "stream",
          "name": "stdout",
          "text": [
            "1\n",
            "2\n",
            "3\n",
            "4\n",
            "5\n",
            "6\n",
            "7\n",
            "8\n",
            "9\n",
            "10\n",
            "11\n",
            "12\n",
            "13\n",
            "14\n",
            "15\n",
            "16\n",
            "17\n",
            "18\n",
            "19\n",
            "20\n"
          ]
        }
      ]
    },
    {
      "cell_type": "code",
      "source": [
        "lista = []\n",
        "for i in range(1,21):\n",
        "  lista.append(i)\n",
        "print(lista)"
      ],
      "metadata": {
        "colab": {
          "base_uri": "https://localhost:8080/"
        },
        "id": "wtv3tS32ERUc",
        "outputId": "31cb452b-5db1-427a-fd3c-cb9dc17bea0e"
      },
      "execution_count": null,
      "outputs": [
        {
          "output_type": "stream",
          "name": "stdout",
          "text": [
            "[1, 2, 3, 4, 5, 6, 7, 8, 9, 10, 11, 12, 13, 14, 15, 16, 17, 18, 19, 20]\n"
          ]
        }
      ]
    },
    {
      "cell_type": "markdown",
      "source": [
        "7- Faça um programa que leia 5 números e informe o maior número."
      ],
      "metadata": {
        "id": "v7UrGR9MQLnW"
      }
    },
    {
      "cell_type": "code",
      "source": [
        "lista = []\n",
        "for i in range(5):\n",
        "  i =+ 1\n",
        "  # numero = int(input(\"Digite um numero: \"))\n",
        "  # lista.append(numero)\n",
        "\n",
        "  lista.append(int(input(\"Digite um numero: \")))\n",
        "\n",
        "lista = sorted(lista)\n",
        "print(lista[4])\n"
      ],
      "metadata": {
        "id": "MOwOObu6QI5a",
        "colab": {
          "base_uri": "https://localhost:8080/"
        },
        "outputId": "1aa45fe2-7ecf-4308-e36b-c6c8744d3a7c"
      },
      "execution_count": null,
      "outputs": [
        {
          "output_type": "stream",
          "name": "stdout",
          "text": [
            "Digite um numero: 1\n",
            "Digite um numero: 5\n",
            "Digite um numero: 8\n",
            "Digite um numero: 4\n",
            "Digite um numero: 9\n",
            "9\n"
          ]
        }
      ]
    },
    {
      "cell_type": "markdown",
      "source": [
        "8- Faça um programa que leia 5 números e informe a soma e a média dos números."
      ],
      "metadata": {
        "id": "B-7qr6k3QQsg"
      }
    },
    {
      "cell_type": "code",
      "source": [
        "soma = 0\n",
        "for i in range(5):\n",
        "  i = i + 1\n",
        "  numero = int(input(\"Digite um numero: \"))\n",
        "  soma = numero + soma\n",
        "\n",
        "print(\"A soma é: \",soma)\n",
        "print(\"A media é: {:.0f}\", soma/5)\n",
        "\n"
      ],
      "metadata": {
        "id": "pmJfzKWjQR0-",
        "colab": {
          "base_uri": "https://localhost:8080/"
        },
        "outputId": "4b70b130-7604-4cad-e3bb-a6176d14cab9"
      },
      "execution_count": null,
      "outputs": [
        {
          "output_type": "stream",
          "name": "stdout",
          "text": [
            "Digite um numero: 5\n",
            "Digite um numero: 5\n",
            "Digite um numero: 5\n",
            "Digite um numero: 5\n",
            "Digite um numero: 5\n",
            "A soma é:  25\n",
            "A media é: {:.0f} 5.0\n"
          ]
        }
      ]
    },
    {
      "cell_type": "markdown",
      "source": [
        "9- Faça um programa que imprima na tela apenas os números ímpares entre 1 e 50."
      ],
      "metadata": {
        "id": "nUAFdwiYQU9H"
      }
    },
    {
      "cell_type": "code",
      "source": [
        "for i in range(1,50):\n",
        "  if i % 2 == 1:\n",
        "    print(i)"
      ],
      "metadata": {
        "id": "dttpJpn3QV73",
        "colab": {
          "base_uri": "https://localhost:8080/"
        },
        "outputId": "e642b925-a96e-483c-b642-cb8b89f71e47"
      },
      "execution_count": null,
      "outputs": [
        {
          "output_type": "stream",
          "name": "stdout",
          "text": [
            "1\n",
            "3\n",
            "5\n",
            "7\n",
            "9\n",
            "11\n",
            "13\n",
            "15\n",
            "17\n",
            "19\n",
            "21\n",
            "23\n",
            "25\n",
            "27\n",
            "29\n",
            "31\n",
            "33\n",
            "35\n",
            "37\n",
            "39\n",
            "41\n",
            "43\n",
            "45\n",
            "47\n",
            "49\n"
          ]
        }
      ]
    },
    {
      "cell_type": "markdown",
      "source": [
        "10- Faça um programa que receba dois números inteiros e gere os números inteiros que estão no intervalo compreendido por eles."
      ],
      "metadata": {
        "id": "XMh61ATtQaQ2"
      }
    },
    {
      "cell_type": "code",
      "source": [
        "num1 = int(input(\"Digite um numero: \"))\n",
        "num2 = int(input(\"Digite um numero: \"))\n",
        "\n",
        "while num1 < (num2 - 1):\n",
        "  num1=num1+1\n",
        "  print(num1)\n",
        "\n",
        "while num2 < (num1 - 1):\n",
        "  num2=num2+1\n",
        "  print(num2)\n"
      ],
      "metadata": {
        "id": "ijjW78AqQbRo",
        "colab": {
          "base_uri": "https://localhost:8080/"
        },
        "outputId": "f0f28eae-56dc-4d98-adbd-3fb0d62a1ede"
      },
      "execution_count": null,
      "outputs": [
        {
          "output_type": "stream",
          "name": "stdout",
          "text": [
            "Digite um numero: 5\n",
            "Digite um numero: 1\n",
            "2\n",
            "3\n",
            "4\n"
          ]
        }
      ]
    },
    {
      "cell_type": "markdown",
      "source": [
        "11- Altere o programa anterior para mostrar no final a soma dos números."
      ],
      "metadata": {
        "id": "5NuReyMRQdmH"
      }
    },
    {
      "cell_type": "code",
      "source": [
        "num1 = int(input(\"Digite um numero: \"))\n",
        "num2 = int(input(\"Digite um numero: \"))\n",
        "soma = 0\n",
        "\n",
        "while num1 < num2:\n",
        "  num1=num1+1\n",
        "  soma = num1 + soma\n",
        "\n",
        "while num2 < num1:\n",
        "  num2=num2+1\n",
        "  soma = num2 + soma\n",
        "\n",
        "print(\"A soma é igual a: \", soma)"
      ],
      "metadata": {
        "id": "Dw3f5v0dQemp",
        "colab": {
          "base_uri": "https://localhost:8080/",
          "height": 669
        },
        "outputId": "7478c383-e7ea-457c-ad66-73427d83f787"
      },
      "execution_count": 1,
      "outputs": [
        {
          "output_type": "error",
          "ename": "KeyboardInterrupt",
          "evalue": "ignored",
          "traceback": [
            "\u001b[0;31m---------------------------------------------------------------------------\u001b[0m",
            "\u001b[0;31mKeyboardInterrupt\u001b[0m                         Traceback (most recent call last)",
            "\u001b[0;32m<ipython-input-1-c21d093317ec>\u001b[0m in \u001b[0;36m<cell line: 1>\u001b[0;34m()\u001b[0m\n\u001b[0;32m----> 1\u001b[0;31m \u001b[0mnum1\u001b[0m \u001b[0;34m=\u001b[0m \u001b[0mint\u001b[0m\u001b[0;34m(\u001b[0m\u001b[0minput\u001b[0m\u001b[0;34m(\u001b[0m\u001b[0;34m\"Digite um numero: \"\u001b[0m\u001b[0;34m)\u001b[0m\u001b[0;34m)\u001b[0m\u001b[0;34m\u001b[0m\u001b[0;34m\u001b[0m\u001b[0m\n\u001b[0m\u001b[1;32m      2\u001b[0m \u001b[0mnum2\u001b[0m \u001b[0;34m=\u001b[0m \u001b[0mint\u001b[0m\u001b[0;34m(\u001b[0m\u001b[0minput\u001b[0m\u001b[0;34m(\u001b[0m\u001b[0;34m\"Digite um numero: \"\u001b[0m\u001b[0;34m)\u001b[0m\u001b[0;34m)\u001b[0m\u001b[0;34m\u001b[0m\u001b[0;34m\u001b[0m\u001b[0m\n\u001b[1;32m      3\u001b[0m \u001b[0msoma\u001b[0m \u001b[0;34m=\u001b[0m \u001b[0;36m0\u001b[0m\u001b[0;34m\u001b[0m\u001b[0;34m\u001b[0m\u001b[0m\n\u001b[1;32m      4\u001b[0m \u001b[0;34m\u001b[0m\u001b[0m\n\u001b[1;32m      5\u001b[0m \u001b[0;32mwhile\u001b[0m \u001b[0mnum1\u001b[0m \u001b[0;34m<\u001b[0m \u001b[0mnum2\u001b[0m\u001b[0;34m:\u001b[0m\u001b[0;34m\u001b[0m\u001b[0;34m\u001b[0m\u001b[0m\n",
            "\u001b[0;32m/usr/local/lib/python3.10/dist-packages/ipykernel/kernelbase.py\u001b[0m in \u001b[0;36mraw_input\u001b[0;34m(self, prompt)\u001b[0m\n\u001b[1;32m    849\u001b[0m                 \u001b[0;34m\"raw_input was called, but this frontend does not support input requests.\"\u001b[0m\u001b[0;34m\u001b[0m\u001b[0;34m\u001b[0m\u001b[0m\n\u001b[1;32m    850\u001b[0m             )\n\u001b[0;32m--> 851\u001b[0;31m         return self._input_request(str(prompt),\n\u001b[0m\u001b[1;32m    852\u001b[0m             \u001b[0mself\u001b[0m\u001b[0;34m.\u001b[0m\u001b[0m_parent_ident\u001b[0m\u001b[0;34m,\u001b[0m\u001b[0;34m\u001b[0m\u001b[0;34m\u001b[0m\u001b[0m\n\u001b[1;32m    853\u001b[0m             \u001b[0mself\u001b[0m\u001b[0;34m.\u001b[0m\u001b[0m_parent_header\u001b[0m\u001b[0;34m,\u001b[0m\u001b[0;34m\u001b[0m\u001b[0;34m\u001b[0m\u001b[0m\n",
            "\u001b[0;32m/usr/local/lib/python3.10/dist-packages/ipykernel/kernelbase.py\u001b[0m in \u001b[0;36m_input_request\u001b[0;34m(self, prompt, ident, parent, password)\u001b[0m\n\u001b[1;32m    893\u001b[0m             \u001b[0;32mexcept\u001b[0m \u001b[0mKeyboardInterrupt\u001b[0m\u001b[0;34m:\u001b[0m\u001b[0;34m\u001b[0m\u001b[0;34m\u001b[0m\u001b[0m\n\u001b[1;32m    894\u001b[0m                 \u001b[0;31m# re-raise KeyboardInterrupt, to truncate traceback\u001b[0m\u001b[0;34m\u001b[0m\u001b[0;34m\u001b[0m\u001b[0m\n\u001b[0;32m--> 895\u001b[0;31m                 \u001b[0;32mraise\u001b[0m \u001b[0mKeyboardInterrupt\u001b[0m\u001b[0;34m(\u001b[0m\u001b[0;34m\"Interrupted by user\"\u001b[0m\u001b[0;34m)\u001b[0m \u001b[0;32mfrom\u001b[0m \u001b[0;32mNone\u001b[0m\u001b[0;34m\u001b[0m\u001b[0;34m\u001b[0m\u001b[0m\n\u001b[0m\u001b[1;32m    896\u001b[0m             \u001b[0;32mexcept\u001b[0m \u001b[0mException\u001b[0m \u001b[0;32mas\u001b[0m \u001b[0me\u001b[0m\u001b[0;34m:\u001b[0m\u001b[0;34m\u001b[0m\u001b[0;34m\u001b[0m\u001b[0m\n\u001b[1;32m    897\u001b[0m                 \u001b[0mself\u001b[0m\u001b[0;34m.\u001b[0m\u001b[0mlog\u001b[0m\u001b[0;34m.\u001b[0m\u001b[0mwarning\u001b[0m\u001b[0;34m(\u001b[0m\u001b[0;34m\"Invalid Message:\"\u001b[0m\u001b[0;34m,\u001b[0m \u001b[0mexc_info\u001b[0m\u001b[0;34m=\u001b[0m\u001b[0;32mTrue\u001b[0m\u001b[0;34m)\u001b[0m\u001b[0;34m\u001b[0m\u001b[0;34m\u001b[0m\u001b[0m\n",
            "\u001b[0;31mKeyboardInterrupt\u001b[0m: Interrupted by user"
          ]
        }
      ]
    },
    {
      "cell_type": "markdown",
      "source": [
        "12- Desenvolva um gerador de tabuada, capaz de gerar a tabuada de qualquer número inteiro entre 1 a 10. O usuário deve informar de qual numero ele deseja ver a tabuada. A saída deve ser conforme o exemplo abaixo:\n",
        "\n",
        "Tabuada de 5:\n",
        "\n",
        "5 X 1 = 5\n",
        "\n",
        "5 X 2 = 10\n",
        "\n",
        "...\n",
        "\n",
        "5 X 10 = 50"
      ],
      "metadata": {
        "id": "JzSUD3yHQiRW"
      }
    },
    {
      "cell_type": "code",
      "source": [
        "num = int(input(\"Digite um numero para a tabuada: \"))\n",
        "i = 1\n",
        "\n",
        "while i <= 10:\n",
        "  print(num,\"x\",i,\"=\",num*i)\n",
        "  i+=1"
      ],
      "metadata": {
        "id": "BFDcQCFnQnNo",
        "colab": {
          "base_uri": "https://localhost:8080/"
        },
        "outputId": "85a3cd8a-fa1b-4f3c-a132-c65f40133f4b"
      },
      "execution_count": null,
      "outputs": [
        {
          "output_type": "stream",
          "name": "stdout",
          "text": [
            "Digite um numero para a tabuada: 5\n",
            "5 x 1 = 5\n",
            "5 x 2 = 10\n",
            "5 x 3 = 15\n",
            "5 x 4 = 20\n",
            "5 x 5 = 25\n",
            "5 x 6 = 30\n",
            "5 x 7 = 35\n",
            "5 x 8 = 40\n",
            "5 x 9 = 45\n",
            "5 x 10 = 50\n"
          ]
        }
      ]
    },
    {
      "cell_type": "markdown",
      "source": [
        "13- Faça um programa que peça dois números, base e expoente, calcule e mostre o primeiro número elevado ao segundo número. Não utilize a função de potência da linguagem."
      ],
      "metadata": {
        "id": "-LI5xyBNQqq-"
      }
    },
    {
      "cell_type": "code",
      "source": [
        "base = int(input(\"Digite a base: \"))\n",
        "expoente = int(input(\"Digite o expoente: \"))\n",
        "mult = base\n",
        "i = 1\n",
        "\n",
        "while i < expoente:\n",
        "  base = base * mult\n",
        "  i = i+ 1\n",
        "\n",
        "print(base)"
      ],
      "metadata": {
        "id": "vzAyk0HrQrxn",
        "colab": {
          "base_uri": "https://localhost:8080/",
          "height": 669
        },
        "outputId": "212ba62c-802f-4ed8-ab23-818304a639af"
      },
      "execution_count": 2,
      "outputs": [
        {
          "output_type": "error",
          "ename": "KeyboardInterrupt",
          "evalue": "ignored",
          "traceback": [
            "\u001b[0;31m---------------------------------------------------------------------------\u001b[0m",
            "\u001b[0;31mKeyboardInterrupt\u001b[0m                         Traceback (most recent call last)",
            "\u001b[0;32m<ipython-input-2-9bf12cc101e3>\u001b[0m in \u001b[0;36m<cell line: 1>\u001b[0;34m()\u001b[0m\n\u001b[0;32m----> 1\u001b[0;31m \u001b[0mbase\u001b[0m \u001b[0;34m=\u001b[0m \u001b[0mint\u001b[0m\u001b[0;34m(\u001b[0m\u001b[0minput\u001b[0m\u001b[0;34m(\u001b[0m\u001b[0;34m\"Digite a base: \"\u001b[0m\u001b[0;34m)\u001b[0m\u001b[0;34m)\u001b[0m\u001b[0;34m\u001b[0m\u001b[0;34m\u001b[0m\u001b[0m\n\u001b[0m\u001b[1;32m      2\u001b[0m \u001b[0mexpoente\u001b[0m \u001b[0;34m=\u001b[0m \u001b[0mint\u001b[0m\u001b[0;34m(\u001b[0m\u001b[0minput\u001b[0m\u001b[0;34m(\u001b[0m\u001b[0;34m\"Digite o expoente: \"\u001b[0m\u001b[0;34m)\u001b[0m\u001b[0;34m)\u001b[0m\u001b[0;34m\u001b[0m\u001b[0;34m\u001b[0m\u001b[0m\n\u001b[1;32m      3\u001b[0m \u001b[0mmult\u001b[0m \u001b[0;34m=\u001b[0m \u001b[0mbase\u001b[0m\u001b[0;34m\u001b[0m\u001b[0;34m\u001b[0m\u001b[0m\n\u001b[1;32m      4\u001b[0m \u001b[0mi\u001b[0m \u001b[0;34m=\u001b[0m \u001b[0;36m1\u001b[0m\u001b[0;34m\u001b[0m\u001b[0;34m\u001b[0m\u001b[0m\n\u001b[1;32m      5\u001b[0m \u001b[0;34m\u001b[0m\u001b[0m\n",
            "\u001b[0;32m/usr/local/lib/python3.10/dist-packages/ipykernel/kernelbase.py\u001b[0m in \u001b[0;36mraw_input\u001b[0;34m(self, prompt)\u001b[0m\n\u001b[1;32m    849\u001b[0m                 \u001b[0;34m\"raw_input was called, but this frontend does not support input requests.\"\u001b[0m\u001b[0;34m\u001b[0m\u001b[0;34m\u001b[0m\u001b[0m\n\u001b[1;32m    850\u001b[0m             )\n\u001b[0;32m--> 851\u001b[0;31m         return self._input_request(str(prompt),\n\u001b[0m\u001b[1;32m    852\u001b[0m             \u001b[0mself\u001b[0m\u001b[0;34m.\u001b[0m\u001b[0m_parent_ident\u001b[0m\u001b[0;34m,\u001b[0m\u001b[0;34m\u001b[0m\u001b[0;34m\u001b[0m\u001b[0m\n\u001b[1;32m    853\u001b[0m             \u001b[0mself\u001b[0m\u001b[0;34m.\u001b[0m\u001b[0m_parent_header\u001b[0m\u001b[0;34m,\u001b[0m\u001b[0;34m\u001b[0m\u001b[0;34m\u001b[0m\u001b[0m\n",
            "\u001b[0;32m/usr/local/lib/python3.10/dist-packages/ipykernel/kernelbase.py\u001b[0m in \u001b[0;36m_input_request\u001b[0;34m(self, prompt, ident, parent, password)\u001b[0m\n\u001b[1;32m    893\u001b[0m             \u001b[0;32mexcept\u001b[0m \u001b[0mKeyboardInterrupt\u001b[0m\u001b[0;34m:\u001b[0m\u001b[0;34m\u001b[0m\u001b[0;34m\u001b[0m\u001b[0m\n\u001b[1;32m    894\u001b[0m                 \u001b[0;31m# re-raise KeyboardInterrupt, to truncate traceback\u001b[0m\u001b[0;34m\u001b[0m\u001b[0;34m\u001b[0m\u001b[0m\n\u001b[0;32m--> 895\u001b[0;31m                 \u001b[0;32mraise\u001b[0m \u001b[0mKeyboardInterrupt\u001b[0m\u001b[0;34m(\u001b[0m\u001b[0;34m\"Interrupted by user\"\u001b[0m\u001b[0;34m)\u001b[0m \u001b[0;32mfrom\u001b[0m \u001b[0;32mNone\u001b[0m\u001b[0;34m\u001b[0m\u001b[0;34m\u001b[0m\u001b[0m\n\u001b[0m\u001b[1;32m    896\u001b[0m             \u001b[0;32mexcept\u001b[0m \u001b[0mException\u001b[0m \u001b[0;32mas\u001b[0m \u001b[0me\u001b[0m\u001b[0;34m:\u001b[0m\u001b[0;34m\u001b[0m\u001b[0;34m\u001b[0m\u001b[0m\n\u001b[1;32m    897\u001b[0m                 \u001b[0mself\u001b[0m\u001b[0;34m.\u001b[0m\u001b[0mlog\u001b[0m\u001b[0;34m.\u001b[0m\u001b[0mwarning\u001b[0m\u001b[0;34m(\u001b[0m\u001b[0;34m\"Invalid Message:\"\u001b[0m\u001b[0;34m,\u001b[0m \u001b[0mexc_info\u001b[0m\u001b[0;34m=\u001b[0m\u001b[0;32mTrue\u001b[0m\u001b[0;34m)\u001b[0m\u001b[0;34m\u001b[0m\u001b[0;34m\u001b[0m\u001b[0m\n",
            "\u001b[0;31mKeyboardInterrupt\u001b[0m: Interrupted by user"
          ]
        }
      ]
    },
    {
      "cell_type": "markdown",
      "source": [
        "14- Faça um programa que peça 10 números inteiros, calcule e mostre a quantidade de números pares e a quantidade de números ímpares."
      ],
      "metadata": {
        "id": "1S9PEwRLQuEm"
      }
    },
    {
      "cell_type": "code",
      "source": [
        "\n",
        "numerosI=[]\n",
        "numerosP=[]\n",
        "i=0\n",
        "while i < 10:\n",
        "  des = int(input(\"Digite um numero: \"))\n",
        "\n",
        "  if des % 2 == 0:\n",
        "    numerosP.append(des)\n",
        "\n",
        "  else:\n",
        "    numerosI.append(des)\n",
        "\n",
        "  i+=1\n",
        "\n",
        "print(\"são\", len(numerosI), \"numeros Impares\")\n",
        "print(\"são\", len(numerosP), \"numeros pares\")"
      ],
      "metadata": {
        "id": "QUkfEm9CQvWa",
        "colab": {
          "base_uri": "https://localhost:8080/"
        },
        "outputId": "b53cf0fd-a36f-4961-d09d-520a81f3d772"
      },
      "execution_count": null,
      "outputs": [
        {
          "output_type": "stream",
          "name": "stdout",
          "text": [
            "Digite um numero5\n",
            "Digite um numero8\n",
            "Digite um numero4\n",
            "Digite um numero9\n",
            "Digite um numero11\n",
            "Digite um numero88\n",
            "Digite um numero55\n",
            "Digite um numero88\n",
            "Digite um numero11\n",
            "Digite um numero55\n",
            "são  6 numeros Impares\n",
            "são  4 numeros pares\n"
          ]
        }
      ]
    },
    {
      "cell_type": "markdown",
      "source": [
        "15- A série de Fibonacci é formada pela sequência 1,1,2,3,5,8,13,21,34,55,... Faça um programa capaz de gerar a série até o n−ésimo termo."
      ],
      "metadata": {
        "id": "jivgY60PQxeX"
      }
    },
    {
      "cell_type": "code",
      "source": [
        "num = int(input(\"Quabtos numeros voce deseja: \"))\n",
        "i=0\n",
        "ant = 0\n",
        "atual = 1\n",
        "prox = 1\n",
        "\n",
        "while i < num:\n",
        "\n",
        "  print(prox)\n",
        "  prox = atual + ant\n",
        "  ant = atual\n",
        "  atual = b\n",
        "\n",
        "\n",
        "  i += 1\n"
      ],
      "metadata": {
        "id": "a31HxmdsQyUU",
        "colab": {
          "base_uri": "https://localhost:8080/"
        },
        "outputId": "557a13a6-9ad0-4d12-9eb8-4547ad4d80c4"
      },
      "execution_count": null,
      "outputs": [
        {
          "output_type": "stream",
          "name": "stdout",
          "text": [
            "Quabtos numeros voce deseja: 8\n",
            "1\n",
            "1\n",
            "2\n",
            "3\n",
            "5\n",
            "8\n",
            "13\n",
            "21\n"
          ]
        }
      ]
    }
  ]
}